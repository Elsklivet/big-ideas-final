{
 "cells": [
  {
   "cell_type": "markdown",
   "metadata": {},
   "source": [
    "# Pittsburgh Parking Meters by Neighborhood"
   ]
  },
  {
   "cell_type": "code",
   "execution_count": null,
   "metadata": {},
   "outputs": [],
   "source": [
    "import pandas as pd\n",
    "import geopandas as gpd\n",
    "import numpy as np\n",
    "%matplotlib inline\n",
    "import matplotlib.pyplot as plt\n",
    "\n",
    "parking = pd.read_csv(\"./parking_meters.csv\")\n",
    "\n",
    "neighborhoods = gpd.read_file(\"../neighborhood/Neighborhoods_.shp\")\n",
    "parking_locs = gpd.read_file(\"./pghdb_sde_PPA_ParkingMeters.shp\")"
   ]
  },
  {
   "cell_type": "markdown",
   "metadata": {},
   "source": [
    "## An overlay of metered parking locations in Pittsburgh"
   ]
  },
  {
   "cell_type": "code",
   "execution_count": null,
   "metadata": {},
   "outputs": [],
   "source": [
    "pgh = neighborhoods.plot(cmap=\"OrRd\")\n",
    "parking_locs.plot(ax=pgh, color=\"blue\", markersize=5)"
   ]
  },
  {
   "cell_type": "markdown",
   "metadata": {},
   "source": [
    "## Number of metered parking locations grouped by neighborhood"
   ]
  },
  {
   "cell_type": "code",
   "execution_count": null,
   "metadata": {},
   "outputs": [],
   "source": [
    "spots_per_neighborhood = parking.groupby(\"node\").count().sort_values(\"fid\", ascending=False)\n",
    "spots_per_neighborhood.rename(columns={'fid':'count'}, inplace=True)\n",
    "spots_per_neighborhood"
   ]
  },
  {
   "cell_type": "markdown",
   "metadata": {},
   "source": [
    "## Top 10 neighborhoods with the most parking locations"
   ]
  },
  {
   "cell_type": "code",
   "execution_count": null,
   "metadata": {},
   "outputs": [],
   "source": [
    "top_10_by_count = spots_per_neighborhood.head(10)\n",
    "top_10_by_count"
   ]
  },
  {
   "cell_type": "markdown",
   "metadata": {},
   "source": [
    "## Parking locations ranked by cheapest price"
   ]
  },
  {
   "cell_type": "code",
   "execution_count": null,
   "metadata": {},
   "outputs": [],
   "source": [
    "price_ranked = parking.sort_values(\"rates\").dropna() # Drop NaN since some are missing data\n",
    "price_ranked"
   ]
  },
  {
   "cell_type": "markdown",
   "metadata": {},
   "source": [
    "## Top 10 ranked by cheapest price"
   ]
  },
  {
   "cell_type": "code",
   "execution_count": null,
   "metadata": {},
   "outputs": [],
   "source": [
    "top_10_by_price = price_ranked.head(10)\n",
    "top_10_by_price"
   ]
  },
  {
   "cell_type": "markdown",
   "metadata": {},
   "source": [
    "## Average price per neighborhood"
   ]
  },
  {
   "cell_type": "code",
   "execution_count": null,
   "metadata": {},
   "outputs": [],
   "source": [
    "def calc_avg(set):\n",
    "    sum = 0\n",
    "    for rate in set:\n",
    "        sum += float(str(rate).strip(\"$\"))\n",
    "    return sum / len(set)\n",
    "\n",
    "parking[\"node\"].replace(' ', np.nan, inplace=True) # Replaces missing data with NaN to get dropped by dropna()\n",
    "\n",
    "avg_neighborhood_price = parking.groupby(\"node\")[\"rates\"].apply(calc_avg).dropna().sort_values().to_frame()\n",
    "avg_neighborhood_price"
   ]
  },
  {
   "cell_type": "markdown",
   "metadata": {},
   "source": [
    "## Top 10 cheapest neighborhoods"
   ]
  },
  {
   "cell_type": "code",
   "execution_count": null,
   "metadata": {},
   "outputs": [],
   "source": [
    "top_10_cheapest_neighborhoods = avg_neighborhood_price.head(10)\n",
    "top_10_cheapest_neighborhoods"
   ]
  },
  {
   "cell_type": "markdown",
   "metadata": {},
   "source": [
    "## Cheapest neighborhoods with most metered locations"
   ]
  },
  {
   "cell_type": "code",
   "execution_count": null,
   "metadata": {},
   "outputs": [],
   "source": [
    "best_neighborhoods = top_10_cheapest_neighborhoods.join(other=top_10_by_count, how=\"inner\", lsuffix=\"\", rsuffix=\"_\")\n",
    "best_neighborhoods[[\"rates\", \"count\"]]"
   ]
  }
 ],
 "metadata": {
  "interpreter": {
   "hash": "916dbcbb3f70747c44a77c7bcd40155683ae19c65e1c03b4aa3499c5328201f1"
  },
  "kernelspec": {
   "display_name": "Python 3.8.10 64-bit",
   "language": "python",
   "name": "python3"
  },
  "language_info": {
   "codemirror_mode": {
    "name": "ipython",
    "version": 3
   },
   "file_extension": ".py",
   "mimetype": "text/x-python",
   "name": "python",
   "nbconvert_exporter": "python",
   "pygments_lexer": "ipython3",
   "version": "3.8.10"
  },
  "orig_nbformat": 4
 },
 "nbformat": 4,
 "nbformat_minor": 2
}
