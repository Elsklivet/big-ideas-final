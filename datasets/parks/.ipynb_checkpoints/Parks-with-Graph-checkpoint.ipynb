{
 "cells": [
  {
   "cell_type": "markdown",
   "metadata": {},
   "source": [
    "# Parks\n",
    "This dataset hosts geographical data regarding parks in Pittsburgh.\n",
    "\n",
    "## Metric\n",
    "(closer to more parks -> better)\n",
    "Ignore the line below, I was practicing LaTeX this won't be in the final product.\n",
    "$$\\sum^{\\infty}_{i=0}{x^2} $$"
   ]
  },
  {
   "cell_type": "code",
   "execution_count": null,
   "metadata": {},
   "outputs": [],
   "source": [
    "import pandas as pd\n",
    "import geopandas as gpd\n",
    "import matplotlib as plt\n",
    "import sys\n",
    "%matplotlib inline\n",
    "!conda install --yes --prefix {sys.prefix} shapefile\n",
    "import shapefile as shp\n",
    "\n",
    "class Graph:\n",
    "    # I will make a graph structure out of this ASAP. \n",
    "    pass\n",
    "        \n",
    "\n",
    "parks = gpd.read_file('Parks.shp')\n",
    "\n",
    "\"\"\"\n",
    "What I need to do is get the park data to be merged with the neighborhood data in some way or another.\n",
    "The CSV for parks is not very neatly aligned with neighborhood. I.e., it has no \"neighborhood\" column at all,\n",
    "which makes this kinda frustrating. Potentially see these links:\n",
    "https://stackoverflow.com/questions/57153101/how-lo-overlay-shape-files-in-geopandas\n",
    "https://gis.stackexchange.com/questions/299379/superposing-two-plots-with-geopandas-with-non-fill-colours-in-one-of-them\n",
    "https://geopandas.org/en/stable/docs/reference/api/geopandas.overlay.html\n",
    "\"\"\"\n",
    "\n",
    "\"\"\"\n",
    "Abstract idea is to build a graph data structure out of the parks in Pittsburgh and essentially run a BFS\n",
    "to determine how many parks are X distance from a neighborhood. \n",
    "(check here for more info: https://towardsdatascience.com/mapping-geograph-data-in-python-610a963d2d7f)\n",
    "\n",
    "Both the parks and neighborhoods CSVs do contain latitude and longitude points. \n",
    "\n",
    "What I will probably do is try to make a graph out of the shapefile. Nodes will be neighborhoods and edges will be distance to parks.\n",
    "\"\"\"\n",
    "\n",
    "neighborhoods = gpd.read_file('../neighborhood/Neighborhoods_.shp')"
   ]
  },
  {
   "cell_type": "code",
   "execution_count": null,
   "metadata": {},
   "outputs": [],
   "source": []
  }
 ],
 "metadata": {
  "kernelspec": {
   "display_name": "Python 3",
   "language": "python",
   "name": "python3"
  },
  "language_info": {
   "codemirror_mode": {
    "name": "ipython",
    "version": 3
   },
   "file_extension": ".py",
   "mimetype": "text/x-python",
   "name": "python",
   "nbconvert_exporter": "python",
   "pygments_lexer": "ipython3",
   "version": "3.8.3"
  }
 },
 "nbformat": 4,
 "nbformat_minor": 4
}
