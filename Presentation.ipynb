{
 "cells": [
  {
   "cell_type": "markdown",
   "metadata": {},
   "source": [
    "# Introduction\n",
    "\n",
    "\n",
    "\n",
    "# The (Combined) Metric\n",
    "\n",
    "# The Best Neighborhood\n",
    "\n",
    "Drumroll please ... 🥁\n",
    "\n",
    "**Squirrel Hill!**\n",
    "\n",
    "# Conclusion"
   ]
  },
  {
   "cell_type": "code",
   "execution_count": 1,
   "metadata": {},
   "outputs": [
    {
     "name": "stdout",
     "output_type": "stream",
     "text": [
      "neighborhood\n",
      "Squirrel Hill South    1.000000\n",
      "Highland Park          0.371571\n",
      "Perry North            0.252426\n",
      "Beltzhoover            0.077755\n",
      "South Side Slopes      0.069117\n",
      "                         ...   \n",
      "North Oakland          0.000251\n",
      "Esplen                 0.000129\n",
      "Bluff                  0.000105\n",
      "West Oakland           0.000052\n",
      "Regent Square          0.000018\n",
      "Name: acreage, Length: 73, dtype: float64\n"
     ]
    }
   ],
   "source": [
    "%store -r reduced_acreage\n",
    "print(reduced_acreage)"
   ]
  },
  {
   "cell_type": "code",
   "execution_count": null,
   "metadata": {},
   "outputs": [],
   "source": []
  }
 ],
 "metadata": {
  "kernelspec": {
   "display_name": "Python 3",
   "language": "python",
   "name": "python3"
  },
  "language_info": {
   "codemirror_mode": {
    "name": "ipython",
    "version": 3
   },
   "file_extension": ".py",
   "mimetype": "text/x-python",
   "name": "python",
   "nbconvert_exporter": "python",
   "pygments_lexer": "ipython3",
   "version": "3.8.3"
  }
 },
 "nbformat": 4,
 "nbformat_minor": 4
}
