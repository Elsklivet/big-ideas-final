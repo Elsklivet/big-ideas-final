{
 "cells": [
  {
   "cell_type": "markdown",
   "metadata": {},
   "source": [
    "# Introduction\n",
    "\n",
    "\n",
    "\n",
    "# The (Combined) Metric\n",
    "\n",
    "# The Best Neighborhood\n",
    "\n",
    "Drumroll please ... 🥁\n",
    "\n",
    "**Squirrel Hill!**\n",
    "\n",
    "# Conclusion"
   ]
  },
  {
   "cell_type": "code",
   "execution_count": 1,
   "metadata": {},
   "outputs": [
    {
     "name": "stdout",
     "output_type": "stream",
     "text": [
      "neighborhood\n",
      "Squirrel Hill South    1.000000\n",
      "Highland Park          0.371571\n",
      "Perry North            0.252426\n",
      "Beltzhoover            0.077755\n",
      "South Side Slopes      0.069117\n",
      "                         ...   \n",
      "North Oakland          0.000251\n",
      "Esplen                 0.000129\n",
      "Bluff                  0.000105\n",
      "West Oakland           0.000052\n",
      "Regent Square          0.000018\n",
      "Name: acreage, Length: 73, dtype: float64\n"
     ]
    }
   ],
   "source": [
    "%store -r reduced_acreage\n",
    "print(reduced_acreage)"
   ]
  },
  {
   "cell_type": "code",
   "execution_count": 10,
   "metadata": {},
   "outputs": [
    {
     "name": "stdout",
     "output_type": "stream",
     "text": [
      "neighborhood\n",
      "Central Business District    1.000000\n",
      "Squirrel Hill South          0.740741\n",
      "Allegheny Center             0.666667\n",
      "Highland Park                0.370370\n",
      "South Side Flats             0.333333\n",
      "North Shore                  0.296296\n",
      "Beechview                    0.259259\n",
      "Shadyside                    0.222222\n",
      "Central Oakland              0.185185\n",
      "Lower Lawrenceville          0.185185\n",
      "Brighton Heights             0.185185\n",
      "Spring Hill-City View        0.148148\n",
      "Point Breeze                 0.111111\n",
      "Hazelwood                    0.111111\n",
      "Greenfield                   0.111111\n",
      "Elliott                      0.111111\n",
      "Duquesne Heights             0.111111\n",
      "Beltzhoover                  0.111111\n",
      "Crawford-Roberts             0.111111\n",
      "South Side Slopes            0.111111\n",
      "East Allegheny               0.074074\n",
      "Garfield                     0.074074\n",
      "Allentown                    0.074074\n",
      "Carrick                      0.074074\n",
      "Brookline                    0.074074\n",
      "Central Lawrenceville        0.074074\n",
      "West End                     0.074074\n",
      "Lincoln-Lemington-Belmar     0.074074\n",
      "Mount Washington             0.074074\n",
      "Upper Hill                   0.074074\n",
      "Strip District               0.074074\n",
      "Squirrel Hill North          0.074074\n",
      "Spring Garden                0.074074\n",
      "Perry North                  0.074074\n",
      "Crafton Heights              0.037037\n",
      "Allegheny West               0.037037\n",
      "Troy Hill                    0.037037\n",
      "Swisshelm Park               0.037037\n",
      "Bloomfield                   0.037037\n",
      "Stanton Heights              0.037037\n",
      "Sheraden                     0.037037\n",
      "Regent Square                0.037037\n",
      "Upper Lawrenceville          0.037037\n",
      "Knoxville                    0.037037\n",
      "Perry South                  0.037037\n",
      "East Carnegie                0.037037\n",
      "East Hills                   0.037037\n",
      "East Liberty                 0.037037\n",
      "Overbrook                    0.037037\n",
      "Esplen                       0.037037\n",
      "Oakwood                      0.037037\n",
      "North Oakland                0.037037\n",
      "Hays                         0.037037\n",
      "Manchester                   0.037037\n",
      "Polish Hill                  0.037037\n",
      "dtype: float64\n"
     ]
    }
   ],
   "source": [
    "%store -r percent_art\n",
    "print(percent_art)"
   ]
  },
  {
   "cell_type": "code",
   "execution_count": null,
   "metadata": {},
   "outputs": [],
   "source": []
  }
 ],
 "metadata": {
  "kernelspec": {
   "display_name": "Python 3",
   "language": "python",
   "name": "python3"
  },
  "language_info": {
   "codemirror_mode": {
    "name": "ipython",
    "version": 3
   },
   "file_extension": ".py",
   "mimetype": "text/x-python",
   "name": "python",
   "nbconvert_exporter": "python",
   "pygments_lexer": "ipython3",
   "version": "3.8.3"
  }
 },
 "nbformat": 4,
 "nbformat_minor": 4
}
