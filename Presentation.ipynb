{
 "cells": [
  {
   "cell_type": "markdown",
   "metadata": {},
   "source": [
    "# Introduction\n",
    "\n",
    "\n",
    "\n",
    "# The (Combined) Metric\n",
    "\n",
    "# The Best Neighborhood\n",
    "\n",
    "Drumroll please ... 🥁\n",
    "\n",
    "**Squirrel Hill!**\n",
    "\n",
    "# Conclusion"
   ]
  },
  {
   "cell_type": "code",
   "execution_count": 1,
   "metadata": {},
   "outputs": [
    {
     "name": "stdout",
     "output_type": "stream",
     "text": [
      "neighborhood\n",
      "Squirrel Hill South    1.000000\n",
      "Highland Park          0.371571\n",
      "Perry North            0.252426\n",
      "Beltzhoover            0.077755\n",
      "South Side Slopes      0.069117\n",
      "                         ...   \n",
      "North Oakland          0.000251\n",
      "Esplen                 0.000129\n",
      "Bluff                  0.000105\n",
      "West Oakland           0.000052\n",
      "Regent Square          0.000018\n",
      "Name: acreage, Length: 73, dtype: float64\n"
     ]
    }
   ],
   "source": [
    "%store -r reduced_acreage\n",
    "print(reduced_acreage)"
   ]
  },
  {
   "cell_type": "code",
   "execution_count": 4,
   "metadata": {},
   "outputs": [
    {
     "name": "stdout",
     "output_type": "stream",
     "text": [
      "neighborhood\n",
      "Allegheny Center             1.058824\n",
      "Allegheny West               0.058824\n",
      "Allentown                    0.117647\n",
      "Beechview                    0.411765\n",
      "Beltzhoover                  0.176471\n",
      "Bloomfield                   0.058824\n",
      "Brighton Heights             0.294118\n",
      "Brookline                    0.117647\n",
      "Carrick                      0.117647\n",
      "Central Business District    1.588235\n",
      "Central Lawrenceville        0.117647\n",
      "Central Oakland              0.294118\n",
      "Crafton Heights              0.058824\n",
      "Crawford-Roberts             0.176471\n",
      "Duquesne Heights             0.176471\n",
      "East Allegheny               0.117647\n",
      "East Carnegie                0.058824\n",
      "East Hills                   0.058824\n",
      "East Liberty                 0.058824\n",
      "Elliott                      0.176471\n",
      "Esplen                       0.058824\n",
      "Garfield                     0.117647\n",
      "Greenfield                   0.176471\n",
      "Hays                         0.058824\n",
      "Hazelwood                    0.176471\n",
      "Highland Park                0.588235\n",
      "Knoxville                    0.058824\n",
      "Lincoln-Lemington-Belmar     0.117647\n",
      "Lower Lawrenceville          0.294118\n",
      "Manchester                   0.058824\n",
      "Mount Washington             0.117647\n",
      "North Oakland                0.058824\n",
      "North Shore                  0.470588\n",
      "Oakwood                      0.058824\n",
      "Overbrook                    0.058824\n",
      "Perry North                  0.117647\n",
      "Perry South                  0.058824\n",
      "Point Breeze                 0.176471\n",
      "Polish Hill                  0.058824\n",
      "Regent Square                0.058824\n",
      "Shadyside                    0.352941\n",
      "Sheraden                     0.058824\n",
      "South Side Flats             0.529412\n",
      "South Side Slopes            0.176471\n",
      "Spring Garden                0.117647\n",
      "Spring Hill-City View        0.235294\n",
      "Squirrel Hill North          0.117647\n",
      "Squirrel Hill South          1.176471\n",
      "Stanton Heights              0.058824\n",
      "Strip District               0.117647\n",
      "Swisshelm Park               0.058824\n",
      "Troy Hill                    0.058824\n",
      "Upper Hill                   0.117647\n",
      "Upper Lawrenceville          0.058824\n",
      "West End                     0.117647\n",
      "dtype: float64\n"
     ]
    }
   ],
   "source": [
    "%store -r percent_art\n",
    "print(percent_art)"
   ]
  },
  {
   "cell_type": "code",
   "execution_count": null,
   "metadata": {},
   "outputs": [],
   "source": []
  }
 ],
 "metadata": {
  "kernelspec": {
   "display_name": "Python 3",
   "language": "python",
   "name": "python3"
  },
  "language_info": {
   "codemirror_mode": {
    "name": "ipython",
    "version": 3
   },
   "file_extension": ".py",
   "mimetype": "text/x-python",
   "name": "python",
   "nbconvert_exporter": "python",
   "pygments_lexer": "ipython3",
   "version": "3.8.3"
  }
 },
 "nbformat": 4,
 "nbformat_minor": 4
}
